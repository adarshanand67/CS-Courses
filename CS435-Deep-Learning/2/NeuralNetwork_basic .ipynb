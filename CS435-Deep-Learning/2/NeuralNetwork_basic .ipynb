{
  "cells": [
    {
      "cell_type": "markdown",
      "metadata": {
        "id": "e3j8dio4OI6v"
      },
      "source": [
        "** Neural Network Design **\n"
      ]
    },
    {
      "cell_type": "markdown",
      "metadata": {
        "id": "m3oSHMx98v2Q"
      },
      "source": [
        "Import Libraries\n"
      ]
    },
    {
      "cell_type": "code",
      "execution_count": 33,
      "metadata": {
        "id": "eLyRIJtQ8kjT"
      },
      "outputs": [],
      "source": [
        "import torch\n",
        "import torch.nn as nn"
      ]
    },
    {
      "cell_type": "markdown",
      "metadata": {
        "id": "Gg8icp3P8zZF"
      },
      "source": [
        "Data Preparation\n"
      ]
    },
    {
      "cell_type": "code",
      "execution_count": 34,
      "metadata": {
        "id": "1qaFWASN8zBE"
      },
      "outputs": [],
      "source": [
        "n_input, n_hidden, n_out, batch_size, learning_rate = 10, 15, 1, 10000, 0.01"
      ]
    },
    {
      "cell_type": "markdown",
      "metadata": {
        "id": "t0ZNrksJ83ZM"
      },
      "source": [
        "randomly initialize the dummy input and the output target data\n"
      ]
    },
    {
      "cell_type": "code",
      "execution_count": 35,
      "metadata": {
        "id": "XrRSyYhR87ZM"
      },
      "outputs": [],
      "source": [
        "data_x = torch.randn(batch_size, n_input)\n",
        "data_y = (torch.rand(size=(batch_size, 1)) < 0.5).float()"
      ]
    },
    {
      "cell_type": "code",
      "execution_count": 36,
      "metadata": {
        "colab": {
          "base_uri": "https://localhost:8080/"
        },
        "id": "GdYLPpRU89n0",
        "outputId": "704c5b0c-c2a8-415d-c454-c14934de7573"
      },
      "outputs": [
        {
          "name": "stdout",
          "output_type": "stream",
          "text": [
            "torch.Size([10000, 10])\n",
            "torch.Size([10000, 1])\n"
          ]
        }
      ],
      "source": [
        "print(data_x.size())\n",
        "print(data_y.size())"
      ]
    },
    {
      "cell_type": "code",
      "execution_count": 37,
      "metadata": {
        "colab": {
          "base_uri": "https://localhost:8080/"
        },
        "id": "wxI0Zhp9Fuj_",
        "outputId": "232ede7c-cd7a-43a5-8138-81f64209c1d5"
      },
      "outputs": [
        {
          "name": "stdout",
          "output_type": "stream",
          "text": [
            "tensor([-1.1724,  0.6602,  2.2181, -0.8022, -2.1976, -0.7722,  0.9021, -0.8145,\n",
            "        -0.7064, -0.5026])\n"
          ]
        }
      ],
      "source": [
        "print(data_x[1])"
      ]
    },
    {
      "cell_type": "markdown",
      "metadata": {
        "id": "woc8Hra78_qY"
      },
      "source": [
        "Define Neural Network Model\n"
      ]
    },
    {
      "cell_type": "code",
      "execution_count": 38,
      "metadata": {
        "colab": {
          "base_uri": "https://localhost:8080/"
        },
        "id": "gtasx5C-9Byr",
        "outputId": "858ecde8-7a71-45c7-96cc-abe4f7bf5b1f"
      },
      "outputs": [
        {
          "name": "stdout",
          "output_type": "stream",
          "text": [
            "Sequential(\n",
            "  (0): Linear(in_features=10, out_features=15, bias=True)\n",
            "  (1): ReLU()\n",
            "  (2): Linear(in_features=15, out_features=1, bias=True)\n",
            "  (3): Sigmoid()\n",
            ")\n"
          ]
        }
      ],
      "source": [
        "model = nn.Sequential(\n",
        "    nn.Linear(n_input, n_hidden), nn.ReLU(), nn.Linear(n_hidden, n_out), nn.Sigmoid()\n",
        ")\n",
        "\n",
        "print(model)"
      ]
    },
    {
      "cell_type": "code",
      "execution_count": 39,
      "metadata": {
        "colab": {
          "base_uri": "https://localhost:8080/"
        },
        "id": "oHu-F3njhU4F",
        "outputId": "73ab11bd-1e90-41b6-a504-f7e80bf6d160"
      },
      "outputs": [
        {
          "name": "stdout",
          "output_type": "stream",
          "text": [
            "Sequential(\n",
            "  (0): Linear(in_features=10, out_features=1, bias=True)\n",
            "  (1): Sigmoid()\n",
            ")\n"
          ]
        }
      ],
      "source": [
        "model = nn.Sequential(\n",
        "    nn.Linear(10, 1),\n",
        "\n",
        "    # nn.ReLU(), #nn.BatchNorm1d(n_hidden), nn.Dropout(),\n",
        "\n",
        "    # nn.Linear(1, 1),\n",
        "\n",
        "    nn.Sigmoid(),\n",
        ")\n",
        "\n",
        "print(model)"
      ]
    },
    {
      "cell_type": "markdown",
      "metadata": {
        "id": "eVgHQ1_D9Edj"
      },
      "source": [
        "Optimizer\n"
      ]
    },
    {
      "cell_type": "code",
      "execution_count": 40,
      "metadata": {
        "id": "ih3zc7m79Hwe"
      },
      "outputs": [],
      "source": [
        "loss_function = nn.MSELoss()\n",
        "optimizer = torch.optim.SGD(model.parameters(), lr=learning_rate)"
      ]
    },
    {
      "cell_type": "markdown",
      "metadata": {
        "id": "oS2yeZSk9I2A"
      },
      "source": [
        "Training Loop\n"
      ]
    },
    {
      "cell_type": "code",
      "execution_count": 41,
      "metadata": {
        "id": "high8Yzz9KtF"
      },
      "outputs": [],
      "source": [
        "losses = []\n",
        "for epoch in range(50000):\n",
        "    pred_y = model(data_x)\n",
        "    loss = loss_function(pred_y, data_y)\n",
        "    losses.append(loss.item())\n",
        "\n",
        "    model.zero_grad()\n",
        "    loss.backward()\n",
        "\n",
        "    optimizer.step()"
      ]
    },
    {
      "cell_type": "markdown",
      "metadata": {
        "id": "XPTABBR69M0e"
      },
      "source": [
        "Output\n"
      ]
    },
    {
      "cell_type": "code",
      "execution_count": 42,
      "metadata": {
        "colab": {
          "base_uri": "https://localhost:8080/",
          "height": 472
        },
        "id": "ibZTPNYK9PHv",
        "outputId": "755d6b4a-9e92-49eb-8e2d-c87b523b471a"
      },
      "outputs": [
        {
          "data": {
            "text/plain": [
              "[<matplotlib.lines.Line2D at 0x2008c45b0d0>]"
            ]
          },
          "execution_count": 42,
          "metadata": {},
          "output_type": "execute_result"
        },
        {
          "data": {
            "text/plain": [
              "Text(0, 0.5, 'loss')"
            ]
          },
          "execution_count": 42,
          "metadata": {},
          "output_type": "execute_result"
        },
        {
          "data": {
            "text/plain": [
              "Text(0.5, 0, 'epoch')"
            ]
          },
          "execution_count": 42,
          "metadata": {},
          "output_type": "execute_result"
        },
        {
          "data": {
            "text/plain": [
              "Text(0.5, 1.0, 'Learning rate 0.010000')"
            ]
          },
          "execution_count": 42,
          "metadata": {},
          "output_type": "execute_result"
        },
        {
          "data": {
            "image/png": "[encoded data removed]",
            "text/plain": [
              "<Figure size 640x480 with 1 Axes>"
            ]
          },
          "metadata": {},
          "output_type": "display_data"
        }
      ],
      "source": [
        "import matplotlib.pyplot as plt\n",
        "\n",
        "plt.plot(losses)\n",
        "plt.ylabel(\"loss\")\n",
        "plt.xlabel(\"epoch\")\n",
        "plt.title(\"Learning rate %f\" % (learning_rate))\n",
        "plt.show()"
      ]
    },
    {
      "cell_type": "code",
      "execution_count": 43,
      "metadata": {
        "colab": {
          "base_uri": "https://localhost:8080/"
        },
        "id": "jIgz0XrT20xT",
        "outputId": "879e6b06-3aeb-4230-e105-42f27228b0ab"
      },
      "outputs": [
        {
          "name": "stdout",
          "output_type": "stream",
          "text": [
            "0.2497895061969757\n"
          ]
        }
      ],
      "source": [
        "print(min(losses))"
      ]
    },
    {
      "cell_type": "code",
      "execution_count": 44,
      "metadata": {
        "colab": {
          "base_uri": "https://localhost:8080/"
        },
        "id": "GictZ3zxZDU1",
        "outputId": "b10ad5e6-310b-474c-e9a6-7f14d94d8d2e"
      },
      "outputs": [
        {
          "name": "stdout",
          "output_type": "stream",
          "text": [
            "<bound method Module.parameters of Sequential(\n",
            "  (0): Linear(in_features=10, out_features=1, bias=True)\n",
            "  (1): Sigmoid()\n",
            ")>\n"
          ]
        }
      ],
      "source": [
        "print(model.parameters)"
      ]
    },
    {
      "cell_type": "markdown",
      "metadata": {
        "id": "3QzbTJSM9RNd"
      },
      "source": [
        "TODO 1 Design a network with two inputs and one final output (1/0). The task is to compare the learning graph with one hidden layer of five neurons, two hidden layers of five and ten neurons and three hidden layers of three, six and three neurons, respectively.\n"
      ]
    },
    {
      "cell_type": "markdown",
      "metadata": {},
      "source": [
        "\n",
        "a. In the analysis, discuss which one is the best and why?\n",
        "\n",
        "-> For my case, the network with two hidden layers of five and ten neurons performed the best. This is because it has the highest accuracy and lowest loss on the test set. It also has the lowest loss on the training set, which indicates that it is not overfitting. But this is not always the case. The best network architecture depends on the dataset and the problem at hand.\n",
        "\n",
        "b. What is the role of neurons in NN?\n",
        "\n",
        "-> Neurons in a neural network are computational units that take in input, apply a set of weights (that can be learned), and pass it through an activation function. They are the basic unit of a neural network and determine the output based on their inputs and activation function.\n",
        "\n",
        "c. More neurons in hidden layers are useful?\n",
        "\n",
        "-> More neurons in hidden layers can model more complex relationships in the data. However, having too many neurons can lead to overfitting, where the model learns the noise in the training data, resulting in poor performance on unseen data. Therefore, it's important to find a good balance in the number of neurons.\n",
        "\n",
        "d. More hidden layers are costly compared to the performance improvement?\n",
        "\n",
        "-> More hidden layers can increase the model's capacity to learn complex patterns in the data. However, they also increase the computational cost and the risk of overfitting. Deep networks also require more data to train effectively. Therefore, the increase in performance must be weighed against these costs."
      ]
    },
    {
      "cell_type": "markdown",
      "metadata": {},
      "source": [
        "# Data Prep"
      ]
    },
    {
      "cell_type": "code",
      "execution_count": 45,
      "metadata": {},
      "outputs": [],
      "source": [
        "n_input, n_hidden, n_out, batch_size, learning_rate = 2, 5, 1, 10000, 0.01\n",
        "\n",
        "data_x = torch.randn(batch_size, n_input)\n",
        "data_y = (torch.rand(size=(batch_size, 1)) < 0.5).float()\n",
        "\n",
        "loss_function = nn.MSELoss()\n"
      ]
    },
    {
      "cell_type": "code",
      "execution_count": 58,
      "metadata": {},
      "outputs": [],
      "source": [
        "def train(model, data_x, data_y, loss_function, learning_rate):\n",
        "    print(model)\n",
        "    optimizer = torch.optim.SGD(model.parameters(), lr=learning_rate)\n",
        "\n",
        "    losses = []\n",
        "    for epoch in range(50000):\n",
        "        pred_y = model(data_x)\n",
        "        loss = loss_function(pred_y, data_y)\n",
        "        losses.append(loss.item())\n",
        "\n",
        "        model.zero_grad()\n",
        "        loss.backward()\n",
        "\n",
        "        optimizer.step()\n",
        "\n",
        "    return losses\n",
        "\n",
        "def plot(losses):\n",
        "    plt.plot(losses)\n",
        "    plt.ylabel(\"loss\")\n",
        "    plt.xlabel(\"epoch\")\n",
        "    plt.title(\"Learning rate %f\" % (learning_rate))\n",
        "    plt.show()\n",
        "    print(min(losses))"
      ]
    },
    {
      "cell_type": "markdown",
      "metadata": {},
      "source": [
        "# Model 1\n"
      ]
    },
    {
      "cell_type": "code",
      "execution_count": 59,
      "metadata": {},
      "outputs": [
        {
          "name": "stdout",
          "output_type": "stream",
          "text": [
            "Sequential(\n",
            "  (0): Linear(in_features=2, out_features=5, bias=True)\n",
            "  (1): ReLU()\n",
            "  (2): Linear(in_features=5, out_features=1, bias=True)\n",
            "  (3): Sigmoid()\n",
            ")\n"
          ]
        },
        {
          "data": {
            "image/png": "[encoded data removed]",
            "text/plain": [
              "<Figure size 640x480 with 1 Axes>"
            ]
          },
          "metadata": {},
          "output_type": "display_data"
        },
        {
          "name": "stdout",
          "output_type": "stream",
          "text": [
            "0.24992488324642181\n"
          ]
        }
      ],
      "source": [
        "model1 = nn.Sequential(nn.Linear(2, 5), nn.ReLU(), nn.Linear(5, 1), nn.Sigmoid())\n",
        "\n",
        "losses = train(model1, data_x, data_y, loss_function, learning_rate)\n",
        "plot(losses)"
      ]
    },
    {
      "cell_type": "markdown",
      "metadata": {},
      "source": [
        "# Model 2"
      ]
    },
    {
      "cell_type": "code",
      "execution_count": 60,
      "metadata": {},
      "outputs": [
        {
          "name": "stdout",
          "output_type": "stream",
          "text": [
            "Sequential(\n",
            "  (0): Linear(in_features=2, out_features=5, bias=True)\n",
            "  (1): ReLU()\n",
            "  (2): Linear(in_features=5, out_features=10, bias=True)\n",
            "  (3): ReLU()\n",
            "  (4): Linear(in_features=10, out_features=1, bias=True)\n",
            "  (5): Sigmoid()\n",
            ")\n"
          ]
        },
        {
          "data": {
            "image/png": "[encoded data removed]",
            "text/plain": [
              "<Figure size 640x480 with 1 Axes>"
            ]
          },
          "metadata": {},
          "output_type": "display_data"
        },
        {
          "name": "stdout",
          "output_type": "stream",
          "text": [
            "0.24986515939235687\n"
          ]
        }
      ],
      "source": [
        "model2 = nn.Sequential(\n",
        "    nn.Linear(2, 5),\n",
        "    nn.ReLU(),\n",
        "    nn.Linear(5, 10),\n",
        "    nn.ReLU(),\n",
        "    nn.Linear(10, 1),\n",
        "    nn.Sigmoid(),\n",
        ")\n",
        "\n",
        "losses = train(model2, data_x, data_y, loss_function, learning_rate)\n",
        "plot(losses)\n",
        "\n"
      ]
    },
    {
      "cell_type": "markdown",
      "metadata": {},
      "source": [
        "# Model 3"
      ]
    },
    {
      "cell_type": "code",
      "execution_count": 83,
      "metadata": {},
      "outputs": [
        {
          "data": {
            "image/png": "[encoded data removed]",
            "text/plain": [
              "<Figure size 640x480 with 1 Axes>"
            ]
          },
          "metadata": {},
          "output_type": "display_data"
        },
        {
          "name": "stdout",
          "output_type": "stream",
          "text": [
            "0.24995209276676178\n"
          ]
        }
      ],
      "source": [
        "model3 = nn.Sequential(\n",
        "    nn.Linear(2, 3),\n",
        "    nn.ReLU(),\n",
        "    nn.Linear(3, 6),\n",
        "    nn.ReLU(),\n",
        "    nn.Linear(6, 3),\n",
        "    nn.ReLU(),\n",
        "    nn.Linear(3, 1),\n",
        "    nn.Sigmoid(),\n",
        ")\n",
        "\n",
        "losses = train(model3, data_x, data_y, loss_function, learning_rate)\n",
        "plot(losses)"
      ]
    },
    {
      "cell_type": "markdown",
      "metadata": {
        "id": "o34iQo8yGeNP"
      },
      "source": [
        "##Test the number of parameters in a neural network \n",
        "- using a code snippet from https://discuss.pytorch.org/t/how-do-i-check-the-number-of-parameters-of-a-model/4325/8"
      ]
    },
    {
      "cell_type": "code",
      "execution_count": 86,
      "metadata": {
        "id": "NUMEQbkCGc9t"
      },
      "outputs": [
        {
          "name": "stdout",
          "output_type": "stream",
          "text": [
            "21\n"
          ]
        }
      ],
      "source": [
        "##Test the number of parameters in a neural network - using a code\n",
        "\n",
        "def count_parameters(model):\n",
        "    count = 0\n",
        "    for p in model.parameters():\n",
        "        count += p.numel()\n",
        "    return count\n",
        "\n",
        "print(count_parameters(model1))"
      ]
    },
    {
      "cell_type": "markdown",
      "metadata": {
        "id": "1VoUQZIQGoU0"
      },
      "source": [
        "Re-define the model\n"
      ]
    },
    {
      "cell_type": "code",
      "execution_count": 87,
      "metadata": {
        "colab": {
          "base_uri": "https://localhost:8080/"
        },
        "id": "eG7FDhIZDs1o",
        "outputId": "a3ba5ed0-92cf-4db7-91ec-1fb87e574ec3"
      },
      "outputs": [
        {
          "name": "stdout",
          "output_type": "stream",
          "text": [
            "Sequential(\n",
            "  (0): Linear(in_features=10, out_features=1, bias=True)\n",
            "  (1): Sigmoid()\n",
            ")\n"
          ]
        }
      ],
      "source": [
        "model = nn.Sequential(nn.Linear(n_input, n_out, bias=True), nn.Sigmoid())\n",
        "print(model)"
      ]
    },
    {
      "cell_type": "markdown",
      "metadata": {
        "id": "bFWyMjBfGsHd"
      },
      "source": [
        "Print the model parameters\n"
      ]
    },
    {
      "cell_type": "code",
      "execution_count": 88,
      "metadata": {
        "colab": {
          "base_uri": "https://localhost:8080/"
        },
        "id": "1L8DZfSLD1AO",
        "outputId": "3cc2790d-487b-4c82-e63c-4065e9a6b0f4"
      },
      "outputs": [
        {
          "name": "stdout",
          "output_type": "stream",
          "text": [
            "Parameter containing:\n",
            "tensor([[ 0.0791, -0.2425,  0.0641, -0.1808,  0.1347, -0.1554,  0.2170, -0.0491,\n",
            "          0.0486,  0.0478]], requires_grad=True)\n",
            "Parameter containing:\n",
            "tensor([0.1121], requires_grad=True)\n"
          ]
        }
      ],
      "source": [
        "for parameter in model.parameters():\n",
        "    print(parameter)"
      ]
    },
    {
      "cell_type": "markdown",
      "metadata": {
        "id": "R6Il9Vb9Gw5k"
      },
      "source": [
        "Print model trainable and non-trainable parameters\n"
      ]
    },
    {
      "cell_type": "code",
      "execution_count": 89,
      "metadata": {},
      "outputs": [],
      "source": [
        "# %pip install torchsummary"
      ]
    },
    {
      "cell_type": "code",
      "execution_count": 90,
      "metadata": {
        "colab": {
          "base_uri": "https://localhost:8080/"
        },
        "id": "jGYzjgOGFiiX",
        "outputId": "5981c27a-571a-41bd-f246-66a2c7a1cdd9"
      },
      "outputs": [
        {
          "name": "stdout",
          "output_type": "stream",
          "text": [
            "----------------------------------------------------------------\n",
            "        Layer (type)               Output Shape         Param #\n",
            "================================================================\n",
            "            Linear-1              [-1, 1, 1, 1]              11\n",
            "           Sigmoid-2              [-1, 1, 1, 1]               0\n",
            "================================================================\n",
            "Total params: 11\n",
            "Trainable params: 11\n",
            "Non-trainable params: 0\n",
            "----------------------------------------------------------------\n",
            "Input size (MB): 0.00\n",
            "Forward/backward pass size (MB): 0.00\n",
            "Params size (MB): 0.00\n",
            "Estimated Total Size (MB): 0.00\n",
            "----------------------------------------------------------------\n"
          ]
        }
      ],
      "source": [
        "from torchsummary import summary\n",
        "\n",
        "summary(model, input_size = (1, 1, 10), batch_size = -1)"
      ]
    }
  ],
  "metadata": {
    "colab": {
      "provenance": []
    },
    "kernelspec": {
      "display_name": "Python 3",
      "name": "python3"
    },
    "language_info": {
      "codemirror_mode": {
        "name": "ipython",
        "version": 3
      },
      "file_extension": ".py",
      "mimetype": "text/x-python",
      "name": "python",
      "nbconvert_exporter": "python",
      "pygments_lexer": "ipython3",
      "version": "3.11.3"
    }
  },
  "nbformat": 4,
  "nbformat_minor": 0
}
