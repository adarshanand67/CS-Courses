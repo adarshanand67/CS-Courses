{
 "cells": [
  {
   "cell_type": "markdown",
   "metadata": {},
   "source": [
    "# 1"
   ]
  },
  {
   "cell_type": "code",
   "execution_count": null,
   "metadata": {},
   "outputs": [],
   "source": [
    "# Done in 2nd File"
   ]
  },
  {
   "cell_type": "markdown",
   "metadata": {},
   "source": [
    "# 2\n"
   ]
  },
  {
   "cell_type": "markdown",
   "metadata": {},
   "source": [
    "• With real life example, differentiate between:\n",
    "\n",
    "• Identification\n",
    "\n",
    "• Classification\n",
    "\n",
    "• Recognition\n",
    "\n",
    "• Verification\n",
    "\n",
    "• Authentication\n",
    "\n",
    "\n",
    "• What loss functions can be suitable in each cases? Why?\n"
   ]
  },
  {
   "cell_type": "markdown",
   "metadata": {},
   "source": [
    "To differentiate between **identification**, **classification**, **recognition**, **verification**, and **authentication**, let's consider a real-life example of a *facial recognition system.*\n",
    "\n",
    "**Identification**: In facial identification, the system determines the identity of an individual by comparing their face with a database of known faces. It aims to find a match or determine if the person is unknown.\n",
    "\n"
   ]
  },
  {
   "cell_type": "markdown",
   "metadata": {},
   "source": [
    "\n",
    "**Classification**: Classification involves assigning an input to one of several predefined classes or categories. In the context of facial recognition, classification can be used to categorize a face into different groups, such as age groups or emotions.\n"
   ]
  },
  {
   "cell_type": "markdown",
   "metadata": {},
   "source": [
    "\n",
    "\n",
    "**Recognition**: Facial recognition involves identifying or verifying the identity of an individual by analyzing their facial features. It compares the input face with a database of known faces to find a match.\n"
   ]
  },
  {
   "cell_type": "markdown",
   "metadata": {},
   "source": [
    "\n",
    "**Verification**: Verification is the process of confirming whether a claimed identity matches the provided evidence. In facial verification, the system compares the input face with a reference face to determine if they belong to the same person.\n"
   ]
  },
  {
   "cell_type": "markdown",
   "metadata": {},
   "source": [
    "\n",
    "**Authentication**: Authentication is the process of confirming the identity of an individual based on their provided credentials or evidence. In facial authentication, the system verifies the identity of a person by comparing their face with a stored reference face.\n"
   ]
  },
  {
   "cell_type": "markdown",
   "metadata": {},
   "source": [
    "\n",
    "**Loss functions** for each case:\n",
    "\n",
    "Identification: For identification, a suitable loss function could be the **softmax cross-entropy loss**. This loss function is commonly used in multi-class classification problems, where the goal is to assign a probability distribution over multiple classes. It encourages the model to correctly identify the input face among a set of known faces.\n",
    "\n",
    "Classification: For classification tasks, the **softmax cross-entropy loss** is also commonly used. It penalizes the model for assigning high probabilities to incorrect classes and encourages it to assign high probabilities to the correct class.\n",
    "\n",
    "Recognition: In facial recognition, a suitable loss function could be the **contrastive loss or triplet loss**. These loss functions aim to learn embeddings (dense representations) of faces in a way that similar faces are closer together in the embedding space, while dissimilar faces are farther apart.\n",
    "\n",
    "Verification: For facial verification, a suitable loss function could be the **binary cross-entropy loss**. This loss function is commonly used in binary classification problems, where the goal is to assign a probability of belonging to a certain class. It encourages the model to correctly classify whether the input face matches the reference face or not.\n",
    "\n",
    "Authentication: Similar to verification, facial authentication can also use the **binary cross-entropy loss**. The goal is to classify whether the input face matches the stored reference face or not.\n",
    "\n"
   ]
  },
  {
   "cell_type": "markdown",
   "metadata": {},
   "source": [
    "# 3\n"
   ]
  },
  {
   "cell_type": "code",
   "execution_count": 1,
   "metadata": {},
   "outputs": [],
   "source": [
    "# • Try to implement this architecture and perform experiment on CIFAR100 dataset\n",
    "# for 50 epochs with learning rate 0.01 and batch size of 256\n",
    "\n",
    "# Input data - 32x32x3\n",
    "# Conv 1 - 5*5 20 feature maps\n",
    "# Max pooling 1 - 2*2 20 feature maps\n",
    "# Conv 2 - 5*5 50 feature maps\n",
    "# Max pooling 2 - 2*2 50 feature maps\n",
    "# Fully connected 1 - 500 feature maps\n",
    "# Fully connected 2 - 100 feature maps (classes)\n",
    "# Softmax layer - 100 classes\n",
    "# Relu activation function\n"
   ]
  },
  {
   "cell_type": "code",
   "execution_count": 2,
   "metadata": {},
   "outputs": [],
   "source": [
    "\n",
    "import torch\n",
    "import torch.nn as nn\n",
    "import torch.optim as optim\n",
    "import torchvision\n",
    "import torchvision.transforms as transforms\n",
    "import matplotlib.pyplot as plt\n",
    "import numpy as np\n",
    "import time\n",
    "\n",
    "# Hyperparameters\n",
    "num_epochs = 50\n",
    "batch_size = 256\n",
    "learning_rate = 0.01\n"
   ]
  },
  {
   "cell_type": "code",
   "execution_count": 3,
   "metadata": {},
   "outputs": [],
   "source": [
    "\n",
    "# Define the network\n",
    "\n",
    "class ConvNet(nn.Module):\n",
    "    def __init__(self):\n",
    "        super(ConvNet, self).__init__()\n",
    "        self.layer1 = nn.Sequential(\n",
    "            nn.Conv2d(3, 20, kernel_size=5, stride=1, padding=2),\n",
    "            nn.ReLU(),\n",
    "            nn.MaxPool2d(kernel_size=2, stride=2)\n",
    "        )\n",
    "        self.layer2 = nn.Sequential(\n",
    "            nn.Conv2d(20, 50, kernel_size=5, stride=1, padding=2),\n",
    "            nn.ReLU(),\n",
    "            nn.MaxPool2d(kernel_size=2, stride=2)\n",
    "        )\n",
    "        self.fc1 = nn.Linear(8*8*50, 500)\n",
    "        self.fc2 = nn.Linear(500, 100)\n",
    "\n",
    "    def forward(self, x):\n",
    "        out = self.layer1(x)\n",
    "        out = self.layer2(out)\n",
    "        out = out.view(-1, 8*8*50)\n",
    "        out = self.fc1(out)\n",
    "        out = self.fc2(out)\n",
    "        return out\n",
    "\n",
    "model = ConvNet()"
   ]
  },
  {
   "cell_type": "code",
   "execution_count": 4,
   "metadata": {},
   "outputs": [
    {
     "name": "stdout",
     "output_type": "stream",
     "text": [
      "Files already downloaded and verified\n",
      "Files already downloaded and verified\n"
     ]
    }
   ],
   "source": [
    "\n",
    "# Loss and optimizer\n",
    "criterion = nn.CrossEntropyLoss()\n",
    "optimizer = torch.optim.Adam(model.parameters(), lr=learning_rate)\n",
    "\n",
    "\n",
    "# Load the CIFAR100 dataset\n",
    "\n",
    "transform = transforms.Compose(\n",
    "    [transforms.ToTensor(),\n",
    "     transforms.Normalize((0.5, 0.5, 0.5), (0.5, 0.5, 0.5))])\n",
    "\n",
    "train_dataset = torchvision.datasets.CIFAR100(root='./data', train=True,\n",
    "                                        download=True, transform=transform)\n",
    "\n",
    "train_loader = torch.utils.data.DataLoader(train_dataset, batch_size=batch_size,\n",
    "                                          shuffle=True)\n",
    "\n",
    "test_dataset = torchvision.datasets.CIFAR100(root='./data', train=False,\n",
    "                                        download=True, transform=transform)\n",
    "\n",
    "test_loader = torch.utils.data.DataLoader(test_dataset, batch_size=batch_size,\n",
    "                                          shuffle=False)\n",
    "\n"
   ]
  },
  {
   "cell_type": "code",
   "execution_count": 5,
   "metadata": {},
   "outputs": [
    {
     "name": "stdout",
     "output_type": "stream",
     "text": [
      "Epoch [1/50], Step [100/196], Loss: 4.6144, Accuracy: 0.78%\n",
      "Epoch [2/50], Step [100/196], Loss: 4.6250, Accuracy: 0.78%\n",
      "Epoch [3/50], Step [100/196], Loss: 4.6073, Accuracy: 1.17%\n",
      "Epoch [4/50], Step [100/196], Loss: 4.6016, Accuracy: 0.39%\n",
      "Epoch [5/50], Step [100/196], Loss: 4.6135, Accuracy: 0.78%\n",
      "Epoch [6/50], Step [100/196], Loss: 4.6113, Accuracy: 0.78%\n",
      "Epoch [7/50], Step [100/196], Loss: 4.6152, Accuracy: 1.95%\n",
      "Epoch [8/50], Step [100/196], Loss: 4.6156, Accuracy: 0.39%\n",
      "Epoch [9/50], Step [100/196], Loss: 4.6161, Accuracy: 0.78%\n",
      "Epoch [10/50], Step [100/196], Loss: 4.6214, Accuracy: 0.78%\n",
      "Epoch [11/50], Step [100/196], Loss: 4.6075, Accuracy: 1.17%\n",
      "Epoch [12/50], Step [100/196], Loss: 4.6150, Accuracy: 0.78%\n",
      "Epoch [13/50], Step [100/196], Loss: 4.6103, Accuracy: 0.78%\n",
      "Epoch [14/50], Step [100/196], Loss: 4.6092, Accuracy: 1.17%\n",
      "Epoch [15/50], Step [100/196], Loss: 4.6134, Accuracy: 0.39%\n",
      "Epoch [16/50], Step [100/196], Loss: 4.6115, Accuracy: 1.17%\n",
      "Epoch [17/50], Step [100/196], Loss: 4.6243, Accuracy: 0.00%\n",
      "Epoch [18/50], Step [100/196], Loss: 4.6158, Accuracy: 1.56%\n",
      "Epoch [19/50], Step [100/196], Loss: 4.6315, Accuracy: 0.39%\n",
      "Epoch [20/50], Step [100/196], Loss: 4.6111, Accuracy: 0.78%\n",
      "Epoch [21/50], Step [100/196], Loss: 4.6149, Accuracy: 1.56%\n",
      "Epoch [22/50], Step [100/196], Loss: 4.6010, Accuracy: 0.78%\n",
      "Epoch [23/50], Step [100/196], Loss: 4.6149, Accuracy: 0.00%\n",
      "Epoch [24/50], Step [100/196], Loss: 4.6077, Accuracy: 1.17%\n",
      "Epoch [25/50], Step [100/196], Loss: 4.6220, Accuracy: 0.00%\n",
      "Epoch [26/50], Step [100/196], Loss: 4.6077, Accuracy: 1.95%\n",
      "Epoch [27/50], Step [100/196], Loss: 4.5987, Accuracy: 1.95%\n",
      "Epoch [28/50], Step [100/196], Loss: 4.6133, Accuracy: 0.39%\n",
      "Epoch [29/50], Step [100/196], Loss: 4.6007, Accuracy: 2.34%\n",
      "Epoch [30/50], Step [100/196], Loss: 4.6160, Accuracy: 0.39%\n",
      "Epoch [31/50], Step [100/196], Loss: 4.6165, Accuracy: 1.17%\n",
      "Epoch [32/50], Step [100/196], Loss: 4.6182, Accuracy: 1.95%\n",
      "Epoch [33/50], Step [100/196], Loss: 4.6159, Accuracy: 1.17%\n",
      "Epoch [34/50], Step [100/196], Loss: 4.6334, Accuracy: 1.17%\n",
      "Epoch [35/50], Step [100/196], Loss: 4.6099, Accuracy: 1.17%\n",
      "Epoch [36/50], Step [100/196], Loss: 4.6208, Accuracy: 1.17%\n",
      "Epoch [37/50], Step [100/196], Loss: 4.6263, Accuracy: 1.95%\n",
      "Epoch [38/50], Step [100/196], Loss: 4.5899, Accuracy: 1.56%\n",
      "Epoch [39/50], Step [100/196], Loss: 4.6112, Accuracy: 0.39%\n",
      "Epoch [40/50], Step [100/196], Loss: 4.6142, Accuracy: 0.78%\n",
      "Epoch [41/50], Step [100/196], Loss: 4.6179, Accuracy: 0.78%\n",
      "Epoch [42/50], Step [100/196], Loss: 4.6129, Accuracy: 1.56%\n",
      "Epoch [43/50], Step [100/196], Loss: 4.6083, Accuracy: 1.17%\n",
      "Epoch [44/50], Step [100/196], Loss: 4.6202, Accuracy: 0.78%\n",
      "Epoch [45/50], Step [100/196], Loss: 4.6162, Accuracy: 0.39%\n",
      "Epoch [46/50], Step [100/196], Loss: 4.6022, Accuracy: 0.39%\n",
      "Epoch [47/50], Step [100/196], Loss: 4.6144, Accuracy: 1.95%\n",
      "Epoch [48/50], Step [100/196], Loss: 4.6069, Accuracy: 0.00%\n",
      "Epoch [49/50], Step [100/196], Loss: 4.6125, Accuracy: 1.17%\n",
      "Epoch [50/50], Step [100/196], Loss: 4.6249, Accuracy: 0.78%\n"
     ]
    },
    {
     "data": {
      "text/plain": [
       "ConvNet(\n",
       "  (layer1): Sequential(\n",
       "    (0): Conv2d(3, 20, kernel_size=(5, 5), stride=(1, 1), padding=(2, 2))\n",
       "    (1): ReLU()\n",
       "    (2): MaxPool2d(kernel_size=2, stride=2, padding=0, dilation=1, ceil_mode=False)\n",
       "  )\n",
       "  (layer2): Sequential(\n",
       "    (0): Conv2d(20, 50, kernel_size=(5, 5), stride=(1, 1), padding=(2, 2))\n",
       "    (1): ReLU()\n",
       "    (2): MaxPool2d(kernel_size=2, stride=2, padding=0, dilation=1, ceil_mode=False)\n",
       "  )\n",
       "  (fc1): Linear(in_features=3200, out_features=500, bias=True)\n",
       "  (fc2): Linear(in_features=500, out_features=100, bias=True)\n",
       ")"
      ]
     },
     "execution_count": 5,
     "metadata": {},
     "output_type": "execute_result"
    },
    {
     "name": "stdout",
     "output_type": "stream",
     "text": [
      "Test Accuracy of the model on the 10000 test images: 1.0 %\n"
     ]
    }
   ],
   "source": [
    "\n",
    "# Train the model\n",
    "total_step = len(train_loader)\n",
    "loss_list = []\n",
    "acc_list = []\n",
    "for epoch in range(num_epochs):\n",
    "    for i, (images, labels) in enumerate(train_loader):\n",
    "        # Run the forward pass\n",
    "        outputs = model(images)\n",
    "        loss = criterion(outputs, labels)\n",
    "        loss_list.append(loss.item())\n",
    "\n",
    "        # Backprop and perform Adam optimisation\n",
    "        optimizer.zero_grad()\n",
    "        loss.backward()\n",
    "        optimizer.step()\n",
    "\n",
    "        # Track the accuracy\n",
    "        total = labels.size(0)\n",
    "        _, predicted = torch.max(outputs.data, 1)\n",
    "        correct = (predicted == labels).sum().item()\n",
    "        acc_list.append(correct / total)\n",
    "\n",
    "        if (i+1) % 100 == 0:\n",
    "            print('Epoch [{}/{}], Step [{}/{}], Loss: {:.4f}, Accuracy: {:.2f}%'\n",
    "                  .format(epoch + 1, num_epochs, i + 1, total_step, loss.item(),\n",
    "                          (correct / total) * 100))\n",
    "\n",
    "# Test the model\n",
    "\n",
    "model.eval()\n",
    "with torch.no_grad():\n",
    "    correct = 0\n",
    "    total = 0\n",
    "    for images, labels in test_loader:\n",
    "        outputs = model(images)\n",
    "        _, predicted = torch.max(outputs.data, 1)\n",
    "        total += labels.size(0)\n",
    "        correct += (predicted == labels).sum().item()\n",
    "\n",
    "    print('Test Accuracy of the model on the 10000 test images: {} %'.format((correct / total) * 100))\n",
    "\n",
    "# Save the model checkpoint\n",
    "torch.save(model.state_dict(), 'model.ckpt')\n",
    "\n",
    "\n"
   ]
  },
  {
   "cell_type": "code",
   "execution_count": 6,
   "metadata": {},
   "outputs": [
    {
     "data": {
      "text/plain": [
       "<Figure size 640x480 with 0 Axes>"
      ]
     },
     "execution_count": 6,
     "metadata": {},
     "output_type": "execute_result"
    },
    {
     "data": {
      "text/plain": [
       "[<matplotlib.lines.Line2D at 0x192833d1c10>]"
      ]
     },
     "execution_count": 6,
     "metadata": {},
     "output_type": "execute_result"
    },
    {
     "data": {
      "text/plain": [
       "[<matplotlib.lines.Line2D at 0x19283555390>]"
      ]
     },
     "execution_count": 6,
     "metadata": {},
     "output_type": "execute_result"
    },
    {
     "data": {
      "text/plain": [
       "<matplotlib.legend.Legend at 0x192834c4910>"
      ]
     },
     "execution_count": 6,
     "metadata": {},
     "output_type": "execute_result"
    },
    {
     "data": {
      "image/png": "[encoded data removed]",
      "text/plain": [
       "<Figure size 640x480 with 1 Axes>"
      ]
     },
     "metadata": {},
     "output_type": "display_data"
    }
   ],
   "source": [
    "\n",
    "# Plot the loss and accuracy\n",
    "plt.figure()\n",
    "plt.plot(loss_list, label='Loss')\n",
    "plt.plot(acc_list, label='Accuracy')\n",
    "plt.legend()\n",
    "plt.show()\n"
   ]
  }
 ],
 "metadata": {
  "kernelspec": {
   "display_name": "Python 3",
   "language": "python",
   "name": "python3"
  },
  "language_info": {
   "codemirror_mode": {
    "name": "ipython",
    "version": 3
   },
   "file_extension": ".py",
   "mimetype": "text/x-python",
   "name": "python",
   "nbconvert_exporter": "python",
   "pygments_lexer": "ipython3",
   "version": "3.11.3"
  }
 },
 "nbformat": 4,
 "nbformat_minor": 2
}
