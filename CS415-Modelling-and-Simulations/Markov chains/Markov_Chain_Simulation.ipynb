{
 "cells": [
  {
   "cell_type": "code",
   "execution_count": 1,
   "metadata": {},
   "outputs": [],
   "source": [
    "import numpy as np"
   ]
  },
  {
   "cell_type": "markdown",
   "metadata": {},
   "source": [
    "<h1 style=\"color:gold\"> A delicious Markov Chain </h1>\n",
    "\n",
    "<img src=\"0.png\" width=\"570\" height=\"400\">"
   ]
  },
  {
   "cell_type": "markdown",
   "metadata": {},
   "source": [
    "## Burger : 0, Pizza : 1, Hotdog : 2"
   ]
  },
  {
   "cell_type": "code",
   "execution_count": 2,
   "metadata": {},
   "outputs": [
    {
     "data": {
      "text/plain": [
       "{0: 'Burger', 1: 'Pizza', 2: 'Hotdog'}"
      ]
     },
     "execution_count": 2,
     "metadata": {},
     "output_type": "execute_result"
    }
   ],
   "source": [
    "state = {\n",
    "    0 : \"Burger\",\n",
    "    1 : \"Pizza\",\n",
    "    2 : \"Hotdog\"\n",
    "}\n",
    "state"
   ]
  },
  {
   "cell_type": "markdown",
   "metadata": {},
   "source": [
    "<h1 style=\"color:gold\">Transition Matrix</h1>\n",
    "<img src=\"mat2.png\" width=\"240\" height=\"120\">\n",
    "\n",
    "## A_ij = P(X_n = j | X_n-1 = i)"
   ]
  },
  {
   "cell_type": "code",
   "execution_count": 3,
   "metadata": {},
   "outputs": [
    {
     "data": {
      "text/plain": [
       "array([[0.2, 0.6, 0.2],\n",
       "       [0.3, 0. , 0.7],\n",
       "       [0.5, 0. , 0.5]])"
      ]
     },
     "execution_count": 3,
     "metadata": {},
     "output_type": "execute_result"
    }
   ],
   "source": [
    "A = np.array([[0.2, 0.6, 0.2], [0.3, 0.0, 0.7], [0.5, 0.0, 0.5]])\n",
    "A"
   ]
  },
  {
   "cell_type": "code",
   "execution_count": 4,
   "metadata": {},
   "outputs": [
    {
     "data": {
      "text/plain": [
       "array([0.2, 0.6, 0.2])"
      ]
     },
     "execution_count": 4,
     "metadata": {},
     "output_type": "execute_result"
    }
   ],
   "source": [
    "A[0]"
   ]
  },
  {
   "cell_type": "code",
   "execution_count": 5,
   "metadata": {},
   "outputs": [
    {
     "data": {
      "text/plain": [
       "1"
      ]
     },
     "execution_count": 5,
     "metadata": {},
     "output_type": "execute_result"
    }
   ],
   "source": [
    "np.random.choice( [0, 1, 2], p = A[0]) # returns a random number from 0, 1, 2 with probability A[0][0], A[0][1], A[0][2]"
   ]
  },
  {
   "cell_type": "markdown",
   "metadata": {},
   "source": [
    "<h1 style=\"color:gold\"> Random Walk on Markov Chain</h1>"
   ]
  },
  {
   "cell_type": "code",
   "execution_count": 6,
   "metadata": {},
   "outputs": [
    {
     "name": "stdout",
     "output_type": "stream",
     "text": [
      "Burger ---> Burger ---> Pizza ---> Hotdog ---> Burger ---> Burger ---> Pizza ---> Hotdog ---> Burger ---> Pizza ---> Hotdog ---> Burger ---> Hotdog ---> Burger ---> Pizza ---> stop\n"
     ]
    }
   ],
   "source": [
    "n = 15\n",
    "start_state = 0\n",
    "curr_state = start_state\n",
    "print(state[curr_state], \"--->\", end=\" \")\n",
    "\n",
    "while n-1:\n",
    "    curr_state = np.random.choice([0, 1, 2], p=A[curr_state]) # Go to next state with probability A[curr_state]\n",
    "    print(state[curr_state], \"--->\", end=\" \")\n",
    "    n-=1\n",
    "print(\"stop\")"
   ]
  },
  {
   "cell_type": "markdown",
   "metadata": {},
   "source": [
    "<h1 style=\"color:gold\">Approach 1 : Monte Carlo</h1>"
   ]
  },
  {
   "cell_type": "code",
   "execution_count": 7,
   "metadata": {},
   "outputs": [
    {
     "name": "stdout",
     "output_type": "stream",
     "text": [
      "π =  [0.352254 0.211077 0.43667 ]\n"
     ]
    }
   ],
   "source": [
    "steps = 10**6\n",
    "start_state = 0\n",
    "curr_state = start_state\n",
    "pi = np.array([0, 0, 0])\n",
    "pi[start_state] = 1\n",
    "\n",
    "i = 0\n",
    "while i<steps:\n",
    "    curr_state = np.random.choice([0,1,2], p=A[curr_state])\n",
    "    pi[curr_state]+=1\n",
    "    i +=1\n",
    "\n",
    "print(\"π = \", pi/steps)"
   ]
  },
  {
   "cell_type": "markdown",
   "metadata": {},
   "source": [
    "<h1 style=\"color:gold\">Approach 2 : Repeated Matrix Multiplication</h1>"
   ]
  },
  {
   "cell_type": "code",
   "execution_count": 8,
   "metadata": {},
   "outputs": [
    {
     "name": "stdout",
     "output_type": "stream",
     "text": [
      "A^n = \n",
      " [[0.35211268 0.21126761 0.43661972]\n",
      " [0.35211268 0.21126761 0.43661972]\n",
      " [0.35211268 0.21126761 0.43661972]] \n",
      "\n",
      "π =  [0.35211268 0.21126761 0.43661972]\n"
     ]
    }
   ],
   "source": [
    "steps = 10**3\n",
    "A_n = A\n",
    "\n",
    "i=0\n",
    "while i<steps:\n",
    "    A_n =  np.matmul(A_n, A)\n",
    "    i+=1\n",
    "\n",
    "print(\"A^n = \\n\", A_n, \"\\n\")\n",
    "print(\"π = \", A_n[0])"
   ]
  },
  {
   "cell_type": "markdown",
   "metadata": {},
   "source": [
    "<h1 style=\"color:gold\">Approach 3 : Finding Left Eigen Vectors</h1>"
   ]
  },
  {
   "cell_type": "code",
   "execution_count": 9,
   "metadata": {},
   "outputs": [
    {
     "name": "stdout",
     "output_type": "stream",
     "text": [
      "left eigen vectors = \n",
      " [[-0.58746336+0.j         -0.16984156-0.35355339j -0.16984156+0.35355339j]\n",
      " [-0.35247801+0.j          0.67936622+0.j          0.67936622-0.j        ]\n",
      " [-0.72845456+0.j         -0.50952467+0.35355339j -0.50952467-0.35355339j]] \n",
      "\n",
      "eigen values = \n",
      " [ 1.  +0.j        -0.15+0.3122499j -0.15-0.3122499j]\n"
     ]
    }
   ],
   "source": [
    "import scipy.linalg\n",
    "values, left = scipy.linalg.eig(A, right = False, left = True) # solving pi*P = pi\n",
    "\n",
    "print(\"left eigen vectors = \\n\", left, \"\\n\")\n",
    "print(\"eigen values = \\n\", values)"
   ]
  },
  {
   "cell_type": "code",
   "execution_count": 10,
   "metadata": {},
   "outputs": [
    {
     "data": {
      "text/plain": [
       "[0.352112676056338, 0.21126760563380279, 0.43661971830985913]"
      ]
     },
     "execution_count": 10,
     "metadata": {},
     "output_type": "execute_result"
    }
   ],
   "source": [
    "pi = left[:,0]\n",
    "pi_normalized = [(x/np.sum(pi)).real for x in pi]\n",
    "pi_normalized"
   ]
  },
  {
   "cell_type": "markdown",
   "metadata": {},
   "source": [
    "<h1 style=\"color:gold\">P(Pizza --> Hotdog --> Hotdog --> Burger) = ?</h1>\n",
    "<br>\n",
    "\n",
    "## => P(X_0 = Pizza, X_1 = Hotdog, X_2 = Hotdog, X_3 = Burger)\n",
    "## => P(X_0 = Pizza)  P(X_1 = Hotdog | X_0 = Pizza)  P(X_2 = Hotdog | X_1 = Hotdog)  P(X_3 = Burger | X_2 = Hotdog)"
   ]
  },
  {
   "cell_type": "code",
   "execution_count": 11,
   "metadata": {},
   "outputs": [
    {
     "data": {
      "text/plain": [
       "[0.352112676056338, 0.21126760563380279, 0.43661971830985913]"
      ]
     },
     "execution_count": 11,
     "metadata": {},
     "output_type": "execute_result"
    }
   ],
   "source": [
    "pi_normalized\n"
   ]
  },
  {
   "cell_type": "code",
   "execution_count": 12,
   "metadata": {},
   "outputs": [
    {
     "data": {
      "text/plain": [
       "(-0.5874633581157707+0j)"
      ]
     },
     "execution_count": 12,
     "metadata": {},
     "output_type": "execute_result"
    }
   ],
   "source": [
    "pi[0]"
   ]
  },
  {
   "cell_type": "code",
   "execution_count": 13,
   "metadata": {},
   "outputs": [
    {
     "name": "stdout",
     "output_type": "stream",
     "text": [
      "0.036971830985915485\n"
     ]
    }
   ],
   "source": [
    "def find_prob(seq, A, pi):\n",
    "    start_state = seq[0]\n",
    "    prob = pi[start_state]\n",
    "    prev_state, curr_state = start_state, start_state\n",
    "    for i in range(1, len(seq)):\n",
    "        curr_state = seq[i]\n",
    "        prob *= A[prev_state][curr_state]\n",
    "        prev_state = curr_state\n",
    "    return prob\n",
    "\n",
    "print(find_prob([1, 2, 2, 0], A, pi_normalized))"
   ]
  }
 ],
 "metadata": {
  "interpreter": {
   "hash": "b302cdd1e032ee910f5c889c3360c28564c92ad4f326fc3102e39fbe47faee66"
  },
  "kernelspec": {
   "display_name": "Python 3.9.7 ('base')",
   "language": "python",
   "name": "python3"
  },
  "language_info": {
   "codemirror_mode": {
    "name": "ipython",
    "version": 3
   },
   "file_extension": ".py",
   "mimetype": "text/x-python",
   "name": "python",
   "nbconvert_exporter": "python",
   "pygments_lexer": "ipython3",
   "version": "3.9.7"
  },
  "orig_nbformat": 2
 },
 "nbformat": 4,
 "nbformat_minor": 2
}
