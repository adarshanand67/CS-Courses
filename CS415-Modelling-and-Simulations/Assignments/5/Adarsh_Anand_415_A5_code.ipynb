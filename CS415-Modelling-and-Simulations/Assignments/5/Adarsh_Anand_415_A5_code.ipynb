{
 "cells": [
  {
   "cell_type": "markdown",
   "metadata": {},
   "source": [
    "\n",
    "### Assignment 5 Markov Chains - Template\n",
    "\n",
    " This is an educational Python utility for analyzing and\n",
    "\n",
    " visualizing small Discrete-time Markov Chains.\n",
    "\n",
    "\n",
    "### Author: Dr. Neha Karanjkar\n",
    "\n",
    "\n",
    "### Changes added by - Adarsh Anand, 2003101, CSE\n",
    "\n"
   ]
  },
  {
   "cell_type": "code",
   "execution_count": 1,
   "metadata": {},
   "outputs": [],
   "source": [
    "import random\n",
    "import math\n",
    "import os\n",
    "import numpy as np"
   ]
  },
  {
   "cell_type": "markdown",
   "metadata": {},
   "source": [
    "## Q1\n"
   ]
  },
  {
   "cell_type": "code",
   "execution_count": 2,
   "metadata": {},
   "outputs": [],
   "source": [
    "def is_stochastic_matrix(P, verbose=False):\n",
    "    \"\"\" \n",
    "    A function that checks whether a given matrix\n",
    "    is a valid stochastic matrix.\n",
    "    A stochastic matrix is square, contains only\n",
    "    non-negative elements and the sum of each row is 1.\n",
    "    \"\"\"\n",
    "    # if ---this is a valid stochastic matrix---\n",
    "\n",
    "    \"\"\"-------- Code starts --------\"\"\"\n",
    "    \n",
    "    # 1. square matrix\n",
    "    flag1 = (len(P) == len(P[0]))\n",
    "\n",
    "    # 2. non-negative elements\n",
    "    flag2 = True\n",
    "    for i in range(len(P)):\n",
    "        for j in range(len(P[0])):\n",
    "            if P[i][j] < 0:\n",
    "                flag2 = False\n",
    "\n",
    "    # 3. sum of each row is 1\n",
    "    flag3 = True\n",
    "    for i in range(len(P)):\n",
    "        sum = 0\n",
    "        for j in range(len(P[0])):\n",
    "            sum += P[i][j]\n",
    "        if not math.isclose(sum, 1):\n",
    "            flag3 = False\n",
    "    \n",
    "    if(verbose):\n",
    "        print(\"is_stochastic_matrix:\")\n",
    "        print(\"flag1=\", flag1)\n",
    "        print(\"flag2=\", flag2)\n",
    "        print(\"flag3=\", flag3)\n",
    "        \n",
    "    return flag1 and flag2 and flag3\n",
    "\n",
    "    \"\"\"-------- Code ends --------\"\"\"\n"
   ]
  },
  {
   "cell_type": "code",
   "execution_count": 3,
   "metadata": {},
   "outputs": [],
   "source": [
    "def generate_a_markov_chain(num_states=3, sparseness=0.8):\n",
    "    \"\"\" \n",
    "    A function that randomly generates a markov chain\n",
    "given the number of states, and returns \n",
    "    its transition probability matrix.\n",
    "\n",
    "    sparseness is the probability of an edge being absent.\n",
    "    Its the fraction of entries in a row in the Transition Probability Matrix \n",
    "    that are zeros.\n",
    "    \"\"\"\n",
    "    assert(sparseness >= 0 and sparseness <= 1)\n",
    "    \n",
    "    P = [[0 for j in range(num_states)] for i in range(num_states)]\n",
    "    print(P)\n",
    "\n",
    "    I = [i for i in range(num_states)]  # states\n",
    "    random.shuffle(I)  # randomly permute this list\n",
    "    print(\"I=\", I)\n",
    "    \n",
    "    J = [i for i in range(num_states)]  # states\n",
    "    \n",
    "    for i in I:  # i denotes \"from\" state\n",
    "        sum_row = 0\n",
    "        random.shuffle(J)  # randomly permute this list\n",
    "        print(\"J=\", J)\n",
    "        \n",
    "        for j in J:  # j denotes \"to\" state\n",
    "            if j == J[-1]:\n",
    "                # adjust Prob of last edge so that all out-probs from state i sum to 1\n",
    "                edge_weight = abs(round((1 - sum_row), 2))\n",
    "            else:\n",
    "                if random.random() < sparseness:\n",
    "                    edge_weight = 0  # with Prob=sparseness, make the edge weight=0\n",
    "                elif sum_row == 0 and random.random() < 0.15:\n",
    "                    edge_weight = 1  # with Prob=0.1, make this an absorbing state\n",
    "                else:\n",
    "                    edge_weight = abs(round(random.uniform(0, (1-sum_row)), 2))\n",
    "            sum_row += edge_weight\n",
    "            \n",
    "            P[i][j] = edge_weight # edge_weight\n",
    "    \n",
    "        if not math.isclose(sum_row, 1):\n",
    "            print(\"ERROR! sum_row=\", sum_row)\n",
    "            \n",
    "    assert(is_stochastic_matrix(P, verbose=True))\n",
    "    return P\n"
   ]
  },
  {
   "cell_type": "code",
   "execution_count": 4,
   "metadata": {},
   "outputs": [
    {
     "name": "stdout",
     "output_type": "stream",
     "text": [
      "[[0, 0, 0], [0, 0, 0], [0, 0, 0]]\n",
      "I= [0, 1, 2]\n",
      "J= [0, 1, 2]\n",
      "J= [0, 2, 1]\n",
      "J= [2, 1, 0]\n",
      "is_stochastic_matrix:\n",
      "flag1= True\n",
      "flag2= True\n",
      "flag3= True\n"
     ]
    }
   ],
   "source": [
    "P = generate_a_markov_chain(num_states=3, sparseness=0.3)\n"
   ]
  },
  {
   "cell_type": "code",
   "execution_count": 5,
   "metadata": {},
   "outputs": [
    {
     "data": {
      "text/plain": [
       "array([[0.78, 0.  , 0.22],\n",
       "       [0.07, 0.26, 0.67],\n",
       "       [0.  , 1.  , 0.  ]])"
      ]
     },
     "execution_count": 5,
     "metadata": {},
     "output_type": "execute_result"
    }
   ],
   "source": [
    "np.array(P)\n"
   ]
  },
  {
   "cell_type": "markdown",
   "metadata": {},
   "source": [
    "## Q2"
   ]
  },
  {
   "cell_type": "code",
   "execution_count": 6,
   "metadata": {},
   "outputs": [],
   "source": [
    "def expected_holding_time(P, s):\n",
    "    \"\"\"\n",
    "    Given the transition probability matrix P, and a state s,\n",
    "    this routine computes the expected holding time for state s.\n",
    "    \"\"\"\n",
    "    \"\"\"-------- Code starts --------\"\"\"\n",
    "    if(P[s][s]==1):\n",
    "        # Probability of staying in the same state is 1 (edge case)\n",
    "        exp_holding_time = float(\"inf\")\n",
    "    else:\n",
    "        exp_holding_time = (1/1-P[s][s]) # Sojourn time\n",
    "    return exp_holding_time\n"
   ]
  },
  {
   "cell_type": "code",
   "execution_count": 7,
   "metadata": {},
   "outputs": [
    {
     "data": {
      "text/plain": [
       "1.0"
      ]
     },
     "execution_count": 7,
     "metadata": {},
     "output_type": "execute_result"
    }
   ],
   "source": [
    "expected_holding_time(P, s=2)"
   ]
  },
  {
   "cell_type": "code",
   "execution_count": 8,
   "metadata": {},
   "outputs": [],
   "source": [
    "def get_subset_of_P(P, list_of_states):\n",
    "    \"\"\"\n",
    "    returns a subset of the original transition \n",
    "    probability matrix corresponding to a given \n",
    "    set of states.\n",
    "    \"\"\"\n",
    "    P_subset = []\n",
    "    for i in list_of_states:\n",
    "        P_subset.append([])\n",
    "        for j in list_of_states:\n",
    "            P_subset[-1].append(P[i][j])\n",
    "    return P_subset\n"
   ]
  },
  {
   "cell_type": "code",
   "execution_count": 9,
   "metadata": {},
   "outputs": [
    {
     "data": {
      "text/plain": [
       "[[0.78, 0], [0.07, 0.26]]"
      ]
     },
     "execution_count": 9,
     "metadata": {},
     "output_type": "execute_result"
    }
   ],
   "source": [
    "P_subset = get_subset_of_P(P, list_of_states=[0,1])\n",
    "P_subset"
   ]
  },
  {
   "cell_type": "markdown",
   "metadata": {},
   "source": [
    "## Q3"
   ]
  },
  {
   "cell_type": "code",
   "execution_count": 10,
   "metadata": {},
   "outputs": [],
   "source": [
    "adj = [[] for i in range(100)]  # adj is used to keep track of edges\n",
    "adj_rev = [[] for i in range(100)]  # adj_rev is used to keep track of edges in reverse stack\n",
    "stack = [] # stack is used to keep track of vertices in topological stack\n",
    "visited = [False for i in range(100)] # Visited is used to keep track of visited vertices\n",
    "component = []  # component is used to keep track of strongly connected components\n",
    "\n",
    "def InitialDFS(v):\n",
    "    ''' Initial DFS to get the stack of the out time of vertices'''\n",
    "    global visited, stack, component, adj, adj_rev # using global variables\n",
    "    visited[v] = True\n",
    "    for i in adj[v]:\n",
    "        if (visited[i] == False):\n",
    "            InitialDFS(i)\n",
    "    stack.append(v) # Append the vertex to the stack list\n",
    "\n",
    "def FinalDFS(v):\n",
    "    ''' Second DFS to get the strongly connected components'''\n",
    "    global visited, stack, component, adj, adj_rev\n",
    "    visited[v] = True\n",
    "    component.append(v) # Append the vertex to the component list\n",
    "    for i in adj_rev[v]:\n",
    "        if (visited[i] == False):\n",
    "            FinalDFS(i)\n",
    "\n",
    "\n",
    "def identify_recurrent_classes(P):\n",
    "    global visited, stack, component, adj, adj_rev\n",
    "    \"\"\"\n",
    "        Given the transition probability matrix P, this function\n",
    "        partitions the state space into transient states\n",
    "        and recurrent classes (also known as closed communicating\n",
    "        or irreducible classes).\n",
    "    \"\"\"\n",
    "    transient_states = []\n",
    "    recurrent_classes = []\n",
    "    connected_components = []\n",
    "\n",
    "    # Kosaraju's Algorithm or Tarjan's Algorithm:\n",
    "\n",
    "    \"\"\"-------- Code starts --------\"\"\"\n",
    "\n",
    "    # Converting the matrix to adjacency list\n",
    "    for i in range(len(P)):\n",
    "        for j in range(len(P[i])):\n",
    "            if P[i][j] > 0 and i != j: # if edge exists and i!=j no self loop\n",
    "                adj[i].append(j)\n",
    "                adj_rev[j].append(i)\n",
    "\n",
    "    # First DFS to get the stack of the out time of vertices\n",
    "    for i in range(len(P)):\n",
    "        if (visited[i] == False):\n",
    "            InitialDFS(i)\n",
    "\n",
    "    visited = [False for i in range(len(P))]\n",
    "\n",
    "    # Reverse to traverse adj_rev\n",
    "    stack.reverse()\n",
    "\n",
    "    for i in stack:\n",
    "        if (visited[i] == False):\n",
    "            FinalDFS(i)\n",
    "            connected_components.append(component)\n",
    "            component = []\n",
    "\n",
    "    # Differentiate transient and recurrent states\n",
    "    flag = 0\n",
    "    for component in connected_components:\n",
    "        flag = 0\n",
    "        for i in component:\n",
    "            for j in range(len(P[i])):\n",
    "                if P[i][j] > 0 and j not in component:\n",
    "                    flag = 1\n",
    "                    break\n",
    "            if flag == 1:\n",
    "                for c in component:\n",
    "                    transient_states.append(c)\n",
    "\n",
    "                break\n",
    "        if flag == 0:\n",
    "            recurrent_classes.append(component)\n",
    "\n",
    "    # print the results:\n",
    "    print(\"connected_components=\", connected_components)\n",
    "    print(\"transient states:\", transient_states)\n",
    "    print(\"recurrent_classes:\", recurrent_classes)\n",
    "    return transient_states, recurrent_classes"
   ]
  },
  {
   "cell_type": "markdown",
   "metadata": {},
   "source": [
    "## Q4"
   ]
  },
  {
   "cell_type": "code",
   "execution_count": 11,
   "metadata": {},
   "outputs": [],
   "source": [
    "def stationary_distribution(P):\n",
    "    \"\"\"\n",
    "        computes the stationary distribution for\n",
    "        a given transition probability matrix P\n",
    "        Assuming P corresponds to an IRREDUCIBLE markov chain.\n",
    "        (that is, all states belong to a \n",
    "        single recurrent class)\n",
    "    \"\"\"\n",
    "    \n",
    "    \"\"\"-------- Code starts --------\"\"\"\n",
    "    # Using repeated matrix multiplication to compute the stationary distribution\n",
    "    P = np.array(P)\n",
    "    print(P)\n",
    "    steps = 10**3\n",
    "    P_n=P\n",
    "    for i in range(steps):\n",
    "        P_n = np.matmul(P_n, P)\n",
    "        \n",
    "    stationary_distr = P_n[0]   \n",
    "    \n",
    "    return stationary_distr"
   ]
  },
  {
   "cell_type": "code",
   "execution_count": 12,
   "metadata": {},
   "outputs": [
    {
     "name": "stdout",
     "output_type": "stream",
     "text": [
      "[[0.78 0.   0.22]\n",
      " [0.07 0.26 0.67]\n",
      " [0.   1.   0.  ]]\n"
     ]
    },
    {
     "data": {
      "text/plain": [
       "array([0.15459364, 0.48586572, 0.35954064])"
      ]
     },
     "execution_count": 12,
     "metadata": {},
     "output_type": "execute_result"
    }
   ],
   "source": [
    "stationary_distribution(P)"
   ]
  },
  {
   "cell_type": "code",
   "execution_count": 13,
   "metadata": {},
   "outputs": [],
   "source": [
    "def visualize_markov_chain(P, show_edge_labels=True, state_labels=None):\n",
    "    \"\"\"\n",
    "    Given the transition probability matrix P,\n",
    "    this function generates a visualization of the\n",
    "    markov chain as a \".dot\" file.\n",
    "\n",
    "    NOTE: the \".dot\" file can be viewed in a browser (http://www.webgraphviz.com/)\n",
    "    OR converted into a pdf file using graphviz by running the command\n",
    "            dot -Tpdf dot_file.dot -o plot.pdf\n",
    "    \"\"\"\n",
    "    if state_labels == None:\n",
    "        state_labels = [str(i) for i in range(len(P))]\n",
    "    with open(\"dot_file.dot\", \"w\") as f:\n",
    "        print(\"digraph  {\", file=f)\n",
    "        for i in range(len(P)):\n",
    "            print(state_labels[i]+\";\", file=f)\n",
    "        for i in range(len(P)):\n",
    "            for j in range(len(P)):\n",
    "                if P[i][j] > 0:\n",
    "                    if show_edge_labels:\n",
    "                        print(\n",
    "                            f\"{state_labels[i]} -> {state_labels[j]}  [weight={P[i][j]}, label=\\\"{P[i][j]}\\\"];\", file=f)\n",
    "                    else:\n",
    "                        print(\n",
    "                            f\"{state_labels[i]} -> {state_labels[j]}  [weight={P[i][j]}];\", file=f)\n",
    "        print(\"}\", file=f)\n",
    "    # ---- optional-----\n",
    "    os.system(\"dot -Tpdf dot_file.dot -o plot.pdf\")\n",
    "    # -------------------\n"
   ]
  },
  {
   "cell_type": "code",
   "execution_count": 14,
   "metadata": {},
   "outputs": [],
   "source": [
    "visualize_markov_chain(P)"
   ]
  },
  {
   "cell_type": "code",
   "execution_count": 15,
   "metadata": {},
   "outputs": [
    {
     "name": "stdout",
     "output_type": "stream",
     "text": [
      "Transition Probability Matrix P = \n",
      " [[1.  0.  0.  0.  0.  0.  0.  0.  0. ]\n",
      " [0.  0.  1.  0.  0.  0.  0.  0.  0. ]\n",
      " [0.  0.  0.  0.5 0.5 0.  0.  0.  0. ]\n",
      " [0.  0.  0.1 0.1 0.  0.1 0.7 0.  0. ]\n",
      " [0.  0.  0.  0.  0.  1.  0.  0.  0. ]\n",
      " [0.  0.  0.  0.  1.  0.  0.  0.  0. ]\n",
      " [0.  0.  0.  0.  0.  0.  1.  0.  0. ]\n",
      " [0.  0.  0.  0.  0.  0.  0.5 0.5 0. ]\n",
      " [0.  0.  0.  0.  0.  0.  0.  1.  0. ]] \n",
      "\n",
      "connected_components= [[8], [7], [1], [2, 3], [6], [5, 4], [0]]\n",
      "transient states: [8, 7, 1, 2, 3]\n",
      "recurrent_classes: [[6], [5, 4], [0]]\n",
      "[[1.]]\n",
      "------------------\n",
      "recurrent_class =  [6]  stationary_distribution: [1.]\n",
      "transition matrix:\n",
      " [[1.]]\n",
      "[[0. 1.]\n",
      " [1. 0.]]\n",
      "------------------\n",
      "recurrent_class =  [5, 4]  stationary_distribution: [0. 1.]\n",
      "transition matrix:\n",
      " [[0. 1.]\n",
      " [1. 0.]]\n",
      "[[1.]]\n",
      "------------------\n",
      "recurrent_class =  [0]  stationary_distribution: [1.]\n",
      "transition matrix:\n",
      " [[1.]]\n"
     ]
    }
   ],
   "source": [
    "\n",
    "\n",
    "# ==================================================================\n",
    "# Here's a sample transition matrix that\n",
    "# could be used for testing our routines:\n",
    "\n",
    "sample_P = [  # 0    1    2    3    4    5    6    7    8\n",
    "    [1.0, 0.0, 0.0, 0.0, 0.0, 0.0, 0.0, 0.0, 0.0],  # 0\n",
    "    [0.0, 0.0, 1.0, 0.0, 0.0, 0.0, 0.0, 0.0, 0.0],  # 1\n",
    "    [0.0, 0.0, 0.0, 0.5, 0.5, 0.0, 0.0, 0.0, 0.0],  # 2\n",
    "    [0.0, 0.0, 0.1, 0.1, 0.0, 0.1, 0.7, 0.0, 0.0],  # 3\n",
    "    [0.0, 0.0, 0.0, 0.0, 0.0, 1.0, 0.0, 0.0, 0.0],  # 4\n",
    "    [0.0, 0.0, 0.0, 0.0, 1.0, 0.0, 0.0, 0.0, 0.0],  # 5\n",
    "    [0.0, 0.0, 0.0, 0.0, 0.0, 0.0, 1.0, 0.0, 0.0],  # 6\n",
    "    [0.0, 0.0, 0.0, 0.0, 0.0, 0.0, 0.5, 0.5, 0.0],  # 7\n",
    "    [0.0, 0.0, 0.0, 0.0, 0.0, 0.0, 0.0, 1.0, 0.0],  # 8\n",
    "]\n",
    "\n",
    "\n",
    "# Either use the sample matrix or randomly generate a transition Probability Matrix P.\n",
    "# Comment out one of these:\n",
    "P = sample_P\n",
    "# P = generate_a_markov_chain(num_states=8, sparseness=0.9)\n",
    "\n",
    "print(\"Transition Probability Matrix P = \\n\", np.array(P), \"\\n\")\n",
    "visualize_markov_chain(P)\n",
    "transient_states, recurrent_classes = identify_recurrent_classes(P)\n",
    "for r in recurrent_classes:\n",
    "    p = get_subset_of_P(P, r)\n",
    "    V = stationary_distribution(p)\n",
    "    print(\"------------------\")\n",
    "    print(\"recurrent_class = \", r, \" stationary_distribution:\", V)\n",
    "    print(\"transition matrix:\\n\", np.array(p))\n",
    "\n",
    "\n",
    "# Expected solution for the Sample Matrix Given:\n",
    "# ------------------------------------------------------\n",
    "#\n",
    "#\t   Transition Probability Matrix P =\n",
    "#\t    [[ 1.   0.   0.   0.   0.   0.   0.   0.   0. ]\n",
    "#\t    [ 0.   0.   1.   0.   0.   0.   0.   0.   0. ]\n",
    "#\t    [ 0.   0.   0.   0.5  0.5  0.   0.   0.   0. ]\n",
    "#\t    [ 0.   0.   0.1  0.1  0.   0.1  0.7  0.   0. ]\n",
    "#\t    [ 0.   0.   0.   0.   0.   1.   0.   0.   0. ]\n",
    "#\t    [ 0.   0.   0.   0.   1.   0.   0.   0.   0. ]\n",
    "#\t    [ 0.   0.   0.   0.   0.   0.   1.   0.   0. ]\n",
    "#\t    [ 0.   0.   0.   0.   0.   0.   0.5  0.5  0. ]\n",
    "#\t    [ 0.   0.   0.   0.   0.   0.   0.   1.   0. ]]\n",
    "#\n",
    "#\t   connected_components= [[0], [1], [2, 3], [4, 5], [6], [7], [8]]\n",
    "#\t   transient states: [1, 2, 3, 7, 8]\n",
    "#\t   recurrent_classes: [[0], [4, 5], [6]]\n",
    "#\t   ------------------\n",
    "#\t   recurrent_class =  [0]  stationary_distribution: [[ 1.]]\n",
    "#\t   transition matrix:\n",
    "#\t    [[ 1.]]\n",
    "#\t   ------------------\n",
    "#\t   recurrent_class =  [4, 5]  stationary_distribution: [[ 0.5  0.5]]\n",
    "#\t   transition matrix:\n",
    "#\t    [[ 0.  1.]\n",
    "#\t    [ 1.  0.]]\n",
    "#\t   ------------------\n",
    "#\t   recurrent_class =  [6]  stationary_distribution: [[ 1.]]\n",
    "#\t   transition matrix:\n",
    "#\t    [[ 1.]]\n",
    "#\n"
   ]
  }
 ],
 "metadata": {
  "interpreter": {
   "hash": "c0f70214c0dd213f07f54ee5d6e0ea644bdbba35113c9bfe8aaa0d1db03ad5dd"
  },
  "kernelspec": {
   "display_name": "Python 3.9.7 ('base')",
   "language": "python",
   "name": "python3"
  },
  "language_info": {
   "codemirror_mode": {
    "name": "ipython",
    "version": 3
   },
   "file_extension": ".py",
   "mimetype": "text/x-python",
   "name": "python",
   "nbconvert_exporter": "python",
   "pygments_lexer": "ipython3",
   "version": "3.9.7"
  },
  "orig_nbformat": 4
 },
 "nbformat": 4,
 "nbformat_minor": 2
}
